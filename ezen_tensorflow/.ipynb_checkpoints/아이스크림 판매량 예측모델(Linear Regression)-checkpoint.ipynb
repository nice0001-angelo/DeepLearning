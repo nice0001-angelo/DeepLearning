{
 "cells": [
  {
   "cell_type": "code",
   "execution_count": 70,
   "metadata": {},
   "outputs": [],
   "source": [
    "import numpy as np\n",
    "import matplotlib.pylab as plt\n",
    " # 쥬피터에서만 쓸수 있음 다른곳에서는 이 라인 제거 필요 : 그림 그릴때 여기서 나타낼지 아닌지\n",
    "%matplotlib inline  \n",
    "#레티나 디스플레이용임..조금이라도 고화질의 레티나 디스플레이에서 쓸때는 필요. 깃허브에서 레티나까지 고려하면 성의있게 짠 코드\n",
    "%config InlineBackend.figure_format = 'retina'  "
   ]
  },
  {
   "cell_type": "code",
   "execution_count": 71,
   "metadata": {},
   "outputs": [],
   "source": [
    "X = np.array([20,21,22,23,24,25,26])\n",
    "Y = np.array([15,16,21,33,42,60,64])"
   ]
  },
  {
   "cell_type": "code",
   "execution_count": 72,
   "metadata": {},
   "outputs": [],
   "source": [
    "# 목적함수 : Cost Function , Loss Function\n",
    "def cost_f(a,b):\n",
    "    return np.sum((a * X + b - Y)**2)\n",
    "\n",
    "# 함수는 수학적 아이디어작성하기 파일에서 구했음(참고하세요) : x의 편미분과 y의 편미분\n",
    "def diff_a(a,b):\n",
    "    return np.sum(2*X*(X*a - Y + b))\n",
    "\n",
    "def diff_b(a,b):\n",
    "    return np.sum(2*X*a - 2*Y + 2*b)"
   ]
  },
  {
   "cell_type": "code",
   "execution_count": 73,
   "metadata": {},
   "outputs": [],
   "source": [
    "# optimization, minimization\n",
    "\n",
    "def gradient_descent1D(func, diff_a, a0, learning_rate=0.001, MaxIter=10,verbose=True):\n",
    "    \n",
    "    paths=[]\n",
    "    for i in range(MaxIter):\n",
    "        a1 = a0 - learning_rate * diff_a(a0)\n",
    "        if verbose:\n",
    "            print(i, a1, func(a1))\n",
    "        a0 =  a1\n",
    "        paths.append(a0)\n",
    "        \n",
    "    return (a0, func(a0), paths)"
   ]
  },
  {
   "cell_type": "code",
   "execution_count": 74,
   "metadata": {},
   "outputs": [],
   "source": [
    "# a0 = [[a]\n",
    "#       [b]]\n",
    "\n",
    "\n",
    "def gradient_descent2D(func, diff_a, diff_b, a0, learning_rate=0.01, MaxIter=10, verbose=True):\n",
    "    paths=[a0]\n",
    "    for i in range(MaxIter):\n",
    "        #diff = np.array([diff_a(a0[0],a0[1]), diff_b(*a0)])  #아규먼트에 *가 붙었으므로 리스트형태로 전달\n",
    "        diff = np.array([diff_a(*a0), diff_b(*a0)])  #아규먼트에 *가 붙었으므로 리스트형태로 전달\n",
    "        a1 = a0 - learning_rate * diff\n",
    "        if verbose:\n",
    "            print(i, a1, func(*a1))\n",
    "        a0 =  a1\n",
    "        paths.append(a0)\n",
    "        \n",
    "    return(a0,func(*a0),paths)\n",
    "        "
   ]
  },
  {
   "cell_type": "code",
   "execution_count": 75,
   "metadata": {},
   "outputs": [
    {
     "name": "stdout",
     "output_type": "stream",
     "text": [
      "[-10   2]\n",
      "[   9.14264418 -174.42363625]\n"
     ]
    }
   ],
   "source": [
    "# 구하고자 하는 값은 벡터값 a0임\n",
    "a=-10\n",
    "b=2\n",
    "a0=np.array([a,b])\n",
    "print(a0)\n",
    "\n",
    "result, _, _=gradient_descent2D(cost_f, diff_a, diff_b, a0, learning_rate=0.0001, MaxIter=1000000, verbose=False)\n",
    "\n",
    "print(result)"
   ]
  },
  {
   "cell_type": "code",
   "execution_count": 76,
   "metadata": {},
   "outputs": [
    {
     "data": {
      "image/png": "[encoded data removed]",
      "text/plain": [
       "<Figure size 432x288 with 1 Axes>"
      ]
     },
     "metadata": {
      "image/png": {
       "height": 248,
       "width": 369
      },
      "needs_background": "light"
     },
     "output_type": "display_data"
    }
   ],
   "source": [
    "a_opt = result[0]\n",
    "b_opt = result[1]\n",
    "\n",
    "plt.plot(X,Y, 'o')\n",
    "plt.grid()\n",
    "plt.plot(X, a_opt*X + b_opt, 'r-')\n",
    "plt.show()"
   ]
  },
  {
   "cell_type": "code",
   "execution_count": null,
   "metadata": {},
   "outputs": [],
   "source": []
  }
 ],
 "metadata": {
  "kernelspec": {
   "display_name": "Python 3",
   "language": "python",
   "name": "python3"
  },
  "language_info": {
   "codemirror_mode": {
    "name": "ipython",
    "version": 3
   },
   "file_extension": ".py",
   "mimetype": "text/x-python",
   "name": "python",
   "nbconvert_exporter": "python",
   "pygments_lexer": "ipython3",
   "version": "3.7.4"
  }
 },
 "nbformat": 4,
 "nbformat_minor": 4
}
