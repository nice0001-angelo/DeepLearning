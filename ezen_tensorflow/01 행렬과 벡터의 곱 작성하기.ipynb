{
 "cells": [
  {
   "cell_type": "code",
   "execution_count": 1,
   "metadata": {},
   "outputs": [],
   "source": [
    "import numpy as np"
   ]
  },
  {
   "cell_type": "markdown",
   "metadata": {},
   "source": [
    "- 매트릭스는 행렬, 행으로 한줄은 벡터로 정의\n",
    "\n",
    "\\begin{equation}\n",
    "\\begin{bmatrix}\n",
    "1 & 4 & 2 & 0 \\\\\n",
    "9 & 5 & 0 & 0 \\\\\n",
    "4 & 0 & 2 & 4 \\\\\n",
    "6 & 1 & 8 & 3\n",
    "\\end{bmatrix}\n",
    "\\begin{bmatrix}\n",
    "1\\\\2\\\\3\\\\4\n",
    "\\end{bmatrix}=?\n",
    "\\end{equation}"
   ]
  },
  {
   "cell_type": "code",
   "execution_count": 19,
   "metadata": {},
   "outputs": [
    {
     "name": "stdout",
     "output_type": "stream",
     "text": [
      "[[1 4 2 0]\n",
      " [9 5 2 0]\n",
      " [4 0 2 4]\n",
      " [6 1 8 3]]\n",
      "[[1]\n",
      " [2]\n",
      " [3]\n",
      " [4]]\n",
      "[[1 4 2 0]\n",
      " [9 5 2 0]\n",
      " [4 0 2 4]\n",
      " [6 1 8 3]]\n",
      "[1 2 3 4]\n"
     ]
    }
   ],
   "source": [
    "a=np.matrix('1,4,2,0;9,5,2,0;4,0,2,4;6,1,8,3')\n",
    "x=np.matrix('1;2;3;4')\n",
    "\n",
    "b=np.array([[1,4,2,0],[9,5,2,0],[4,0,2,4],[6,1,8,3]])\n",
    "y=np.array([1,2,3,4])\n",
    "\n",
    "\n",
    "\n",
    "print(a)\n",
    "print(x)\n",
    "print(b)\n",
    "print(y)"
   ]
  },
  {
   "cell_type": "markdown",
   "metadata": {},
   "source": [
    "\\begin{equation}\n",
    "\\begin{bmatrix}\n",
    "4 & 5 & 2 & 1 \\\\\n",
    "2 & 3 & 8 & 0 \\\\\n",
    "1 & 0 & 7 & 2\n",
    "\\end{bmatrix}\n",
    "\\begin{bmatrix}\n",
    "1\\\\2\\\\3\\\\4\n",
    "\\end{bmatrix}=?\n",
    "\\end{equation}"
   ]
  },
  {
   "cell_type": "code",
   "execution_count": 18,
   "metadata": {},
   "outputs": [
    {
     "name": "stdout",
     "output_type": "stream",
     "text": [
      "[[1]\n",
      " [2]\n",
      " [3]\n",
      " [4]]\n"
     ]
    }
   ],
   "source": [
    "c=np.array([[1],[2],[3],[4]])\n",
    "print(c)"
   ]
  },
  {
   "cell_type": "code",
   "execution_count": 25,
   "metadata": {},
   "outputs": [
    {
     "name": "stdout",
     "output_type": "stream",
     "text": [
      "[[0.]\n",
      " [0.]\n",
      " [0.]\n",
      " [0.]]\n",
      "[[15.]\n",
      " [25.]\n",
      " [26.]\n",
      " [44.]]\n"
     ]
    }
   ],
   "source": [
    "## 내적 : 행렬곱 : array가 아닌 matrix이므로 내적곱을 for 문으로 정리 구해야 함\n",
    "ret = np.zeros((4,1))\n",
    "print(ret)\n",
    "n = 4\n",
    "for i in range(0,n):\n",
    "    val = 0.0\n",
    "    for j in range(0,n):\n",
    "        val += a[i,j]*x[j]\n",
    "    ret[i] = val\n",
    "  \n",
    "print(ret)"
   ]
  },
  {
   "cell_type": "code",
   "execution_count": 26,
   "metadata": {},
   "outputs": [
    {
     "data": {
      "text/plain": [
       "array([[ 1,  8,  6,  0],\n",
       "       [ 9, 10,  6,  0],\n",
       "       [ 4,  0,  6, 16],\n",
       "       [ 6,  2, 24, 12]])"
      ]
     },
     "execution_count": 26,
     "metadata": {},
     "output_type": "execute_result"
    }
   ],
   "source": [
    "# array는 그냥 곱하면 행렬곱이 된다\n",
    "b*y"
   ]
  },
  {
   "cell_type": "code",
   "execution_count": null,
   "metadata": {},
   "outputs": [],
   "source": []
  }
 ],
 "metadata": {
  "kernelspec": {
   "display_name": "Python 3",
   "language": "python",
   "name": "python3"
  },
  "language_info": {
   "codemirror_mode": {
    "name": "ipython",
    "version": 3
   },
   "file_extension": ".py",
   "mimetype": "text/x-python",
   "name": "python",
   "nbconvert_exporter": "python",
   "pygments_lexer": "ipython3",
   "version": "3.7.4"
  }
 },
 "nbformat": 4,
 "nbformat_minor": 4
}
