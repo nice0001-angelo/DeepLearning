{
 "cells": [
  {
   "cell_type": "code",
   "execution_count": 1,
   "metadata": {},
   "outputs": [],
   "source": [
    "# bestofbest99@empas.com\n",
    "\n",
    "import numpy\n",
    "import scipy\n",
    "import sympy\n",
    "import sklearn\n",
    "import matplotlib"
   ]
  },
  {
   "cell_type": "markdown",
   "metadata": {},
   "source": [
    "### AWS 접속\n",
    "AWS 접속 방법 파일로 받아야 함<br>\n",
    " 1. 인스턴스 생성하고(우분투) : 팸 키 다운 받아서 잘 보관해 놓아야 한다(이메일에 넣어 두기)<br>\n",
    " 2. 푸티를 통해서 접속한다(ubuntu 계정) : 키파일 등록해놓으면 패스워드 없이 들어갈수 있음(푸티 키 제네레이터 이용해서 )<br>\n",
    "   서버에 설치 해둬야 함. 리눅스용으로 다운로드 해서 한다 <br>\n",
    "     wget으로 링크를 따와서 인스톨 해야 번거롭지 않게 할수 있다<br>\n",
    "     서버에 jupyter를 뛰어 놓을수도 있다.<br>\n",
    " 3. gpu 쓰면 텐서플로우 엄청 빠르다. 텐서플로우용 전용 gpu가 있음-gpu는 cpu보다 단순/많은 연산을 잘함:선형회귀는 단순하고 많은 연산\n",
    "\n",
    "### 최적해 구하기\n",
    "- 미분값 : y=ax+b 최초 함수로 구한 잔차를 최소화 하는 함수(커브곡선)의 최소값을 구하고 그때의 a, b를 구하면 최초 함수를 구할 수 있음 : (y-y')*2 = (ax-y')*2<br>\n",
    "-         learning rate는 곡선함수의 일정 지점에서 최적해를 찾아서 움직이는 거리(이게 움직여서 최소의 지점(미분=0)으로 찾을 수 있음)<br>\n",
    "-         learning rate를 너무 작게 잡으면 너무 오래 걸림<br>\n",
    "-         learning rate를 너무 크게 잡으면 너무 크게 왔다 갔다 하다가 최소 지점을 지나칠 수 있으므로 최적해를 못 구할 수 있음"
   ]
  },
  {
   "cell_type": "code",
   "execution_count": null,
   "metadata": {},
   "outputs": [],
   "source": []
  }
 ],
 "metadata": {
  "kernelspec": {
   "display_name": "Python 3",
   "language": "python",
   "name": "python3"
  },
  "language_info": {
   "codemirror_mode": {
    "name": "ipython",
    "version": 3
   },
   "file_extension": ".py",
   "mimetype": "text/x-python",
   "name": "python",
   "nbconvert_exporter": "python",
   "pygments_lexer": "ipython3",
   "version": "3.7.4"
  }
 },
 "nbformat": 4,
 "nbformat_minor": 4
}
